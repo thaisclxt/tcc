{
 "cells": [
  {
   "cell_type": "markdown",
   "metadata": {},
   "source": [
    "Define a função e o mínimo global"
   ]
  },
  {
   "cell_type": "code",
   "execution_count": 3,
   "metadata": {},
   "outputs": [
    {
     "name": "stdout",
     "output_type": "stream",
     "text": [
      "Qual função deseja escolher?\n",
      "1- Digitar uma função\n",
      "2- Escolher uma função de exemplo\n",
      "2\n",
      "\n",
      "Qual dessas funções deseja escolher?\n",
      "0- 3*x^2 - 12*x + 3*y^2 - 6*y + 25\n",
      "1- 5*x^2 + 8*y^2 + 2*x*y - 42*x - 102*y\n",
      "2- x^2*y + x*y^2 - 96*x*y\n",
      "3- x^2 + 2*y^2 - 18*x - 24*y + 2*x*y + 120\n",
      "1\n"
     ]
    }
   ],
   "source": [
    "from main import *\n",
    "\n",
    "is_user_input = function_type()\n",
    "function = define_function(is_user_input)\n",
    "x_star = define_global_minimun(is_user_input, function)\n",
    "\n",
    "expression: Expr = parse_expr(function.replace(\"^\", \"**\"))\n",
    "\n",
    "func = Function(is_user_input, expression, x_star)"
   ]
  },
  {
   "cell_type": "markdown",
   "metadata": {},
   "source": [
    "Cria a tabela"
   ]
  },
  {
   "cell_type": "code",
   "execution_count": null,
   "metadata": {},
   "outputs": [
    {
     "data": {
      "application/vnd.jupyter.widget-view+json": {
       "model_id": "c887c591777a4991bc6c6b78619d13b4",
       "version_major": 2,
       "version_minor": 0
      },
      "text/plain": [
       "Output()"
      ]
     },
     "metadata": {},
     "output_type": "display_data"
    },
    {
     "name": "stdout",
     "output_type": "stream",
     "text": [
      "\n"
     ]
    },
    {
     "data": {
      "text/html": [
       "<pre style=\"white-space:pre;overflow-x:auto;line-height:normal;font-family:Menlo,'DejaVu Sans Mono',consolas,'Courier New',monospace\"></pre>\n"
      ],
      "text/plain": []
     },
     "metadata": {},
     "output_type": "display_data"
    },
    {
     "data": {
      "text/html": [
       "<pre style=\"white-space:pre;overflow-x:auto;line-height:normal;font-family:Menlo,'DejaVu Sans Mono',consolas,'Courier New',monospace\">\n",
       "</pre>\n"
      ],
      "text/plain": [
       "\n"
      ]
     },
     "metadata": {},
     "output_type": "display_data"
    },
    {
     "data": {
      "application/vnd.jupyter.widget-view+json": {
       "model_id": "499971da153c418a8ee828b7bc4f8584",
       "version_major": 2,
       "version_minor": 0
      },
      "text/plain": [
       "Output()"
      ]
     },
     "metadata": {},
     "output_type": "display_data"
    }
   ],
   "source": [
    "import pandas as pd\n",
    "from rich.progress import track\n",
    "\n",
    "print()\n",
    "\n",
    "table1 = []\n",
    "table2 = []\n",
    "table3 = []\n",
    "table4 = []\n",
    "table5 = []\n",
    "\n",
    "for i in range(4):\n",
    "   tolerance: float = 10**-(i+2)\n",
    "   result_list = []\n",
    "   k_list = []\n",
    "   time_list = []\n",
    "\n",
    "   for j in track(range(100), description='Processando...'):\n",
    "      x0 = np.random.uniform(low=0.0, high=10.0, size=2)\n",
    "      start_time = time.time()\n",
    "\n",
    "      mg = MG(func, x0, tolerance)\n",
    "      mg.algorithm()\n",
    "\n",
    "      time_list.append(time.time() - start_time)\n",
    "      result_list.append(mg.xk)\n",
    "      k_list.append(mg.k)\n",
    "\n",
    "   result_mean = calculate_result_mean(result_list)\n",
    "\n",
    "   table1.append(tolerance)\n",
    "   table2.append(np.mean(k_list))\n",
    "   table3.append(result_mean)\n",
    "   table4.append(norm(result_mean, x_star))\n",
    "   table5.append(np.mean(time_list))\n",
    "\n",
    "table = pd.DataFrame({\n",
    "   \"tol\": table1,\n",
    "   \"T\\u0304\": table5,\n",
    "   \"k\\u0304\": table2,\n",
    "   \"x\\u0304\\u1D4F\": table3,\n",
    "   \"\\u2225x\\u0304\\u1D4F - x*\\u2225\": table4\n",
    "})\n",
    "\n",
    "print(\n",
    "   f'\\nTabela 1 - Testes do Método do Gradiente para a função {function}\\n')\n",
    "\n",
    "print(table)"
   ]
  }
 ],
 "metadata": {
  "kernelspec": {
   "display_name": "Python 3 (ipykernel)",
   "language": "python",
   "name": "python3"
  },
  "language_info": {
   "codemirror_mode": {
    "name": "ipython",
    "version": 3
   },
   "file_extension": ".py",
   "mimetype": "text/x-python",
   "name": "python",
   "nbconvert_exporter": "python",
   "pygments_lexer": "ipython3",
   "version": "3.10.6"
  }
 },
 "nbformat": 4,
 "nbformat_minor": 2
}
