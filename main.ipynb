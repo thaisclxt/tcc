{
 "cells": [
  {
   "attachments": {},
   "cell_type": "markdown",
   "metadata": {},
   "source": [
    "Define a função e o mínimo global"
   ]
  },
  {
   "cell_type": "code",
   "execution_count": null,
   "metadata": {},
   "outputs": [],
   "source": [
    "from main import *\n",
    "\n",
    "is_user_input = function_type()\n",
    "function = define_function(is_user_input)\n",
    "x_star = define_global_minimun(is_user_input, function)\n",
    "\n",
    "expression: Expr = parse_expr(function.replace(\"^\", \"**\"))\n",
    "\n",
    "func = Function(is_user_input, expression, x_star)"
   ]
  },
  {
   "attachments": {},
   "cell_type": "markdown",
   "metadata": {},
   "source": [
    "Define a tolerância"
   ]
  },
  {
   "cell_type": "code",
   "execution_count": 10,
   "metadata": {},
   "outputs": [],
   "source": [
    "tolerance: float = 10**-2"
   ]
  },
  {
   "attachments": {},
   "cell_type": "markdown",
   "metadata": {},
   "source": [
    "Algoritmo do Método do Gradiente - MG"
   ]
  },
  {
   "cell_type": "code",
   "execution_count": 13,
   "metadata": {},
   "outputs": [],
   "source": [
    "result_list = []\n",
    "k_list = []\n",
    "\n",
    "for j in range(100):\n",
    "  x0 = np.random.uniform(low=0.0, high=10.0, size=2)\n",
    "\n",
    "  mg = MG(func, x0, tolerance)\n",
    "  mg.algorithm()\n",
    "\n",
    "  result_list.append(mg.xk)\n",
    "  k_list.append(mg.k)\n",
    "\n",
    "  # print(f'\\nx0: {x0}, x{mg.k}: {mg.xk}\\n')"
   ]
  },
  {
   "attachments": {},
   "cell_type": "markdown",
   "metadata": {},
   "source": [
    "Impeime os resultados"
   ]
  },
  {
   "cell_type": "code",
   "execution_count": null,
   "metadata": {},
   "outputs": [],
   "source": [
    "result_mean = calculate_result_mean(result_list)\n",
    "\n",
    "print('\\n-----------------TABELA-----------------\\n')\n",
    "print(f'Média de iterações: {np.mean(k_list)}')\n",
    "print(f'Média do resultado obtido: {result_mean}')\n",
    "print(f'Média do resultado obtido - o resultado esperado: {norm(result_mean, x_star)}')"
   ]
  }
 ],
 "metadata": {
  "kernelspec": {
   "display_name": "Python 3",
   "language": "python",
   "name": "python3"
  },
  "language_info": {
   "codemirror_mode": {
    "name": "ipython",
    "version": 3
   },
   "file_extension": ".py",
   "mimetype": "text/x-python",
   "name": "python",
   "nbconvert_exporter": "python",
   "pygments_lexer": "ipython3",
   "version": "3.10.6"
  },
  "orig_nbformat": 4
 },
 "nbformat": 4,
 "nbformat_minor": 2
}
