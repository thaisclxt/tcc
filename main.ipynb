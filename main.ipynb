{
 "cells": [
  {
   "attachments": {},
   "cell_type": "markdown",
   "metadata": {},
   "source": [
    "Define a função e o mínimo global"
   ]
  },
  {
   "cell_type": "code",
   "execution_count": 3,
   "metadata": {},
   "outputs": [
    {
     "name": "stdout",
     "output_type": "stream",
     "text": [
      "Qual função deseja escolher?\n",
      "1- Digitar uma função\n",
      "2- Escolher uma função de exemplo\n",
      "\n",
      "Qual dessas funções deseja escolher?\n",
      "0- 3*x^2 - 12*x + 3*y^2 - 6*y + 25\n",
      "1- 5*x^2 + 8*y^2 + 2*x*y - 42*x - 102*y\n",
      "2- x^2*y + x*y^2 - 96*x*y\n",
      "3- x^2 + 2*y^2 - 18*x - 24*y + 2*x*y + 120\n"
     ]
    }
   ],
   "source": [
    "from main import *\n",
    "\n",
    "is_user_input = function_type()\n",
    "function = define_function(is_user_input)\n",
    "x_star = define_global_minimun(is_user_input, function)\n",
    "\n",
    "expression: Expr = parse_expr(function.replace(\"^\", \"**\"))\n",
    "\n",
    "func = Function(is_user_input, expression, x_star)"
   ]
  },
  {
   "attachments": {},
   "cell_type": "markdown",
   "metadata": {},
   "source": [
    "Cria a tabela"
   ]
  },
  {
   "cell_type": "code",
   "execution_count": 4,
   "metadata": {},
   "outputs": [
    {
     "name": "stdout",
     "output_type": "stream",
     "text": [
      "Tabela 1 - Testes do Método do Gradiente para a função 3*x^2 - 12*x + 3*y^2 - 6*y + 25\n"
     ]
    },
    {
     "data": {
      "text/html": [
       "<div>\n",
       "<style scoped>\n",
       "    .dataframe tbody tr th:only-of-type {\n",
       "        vertical-align: middle;\n",
       "    }\n",
       "\n",
       "    .dataframe tbody tr th {\n",
       "        vertical-align: top;\n",
       "    }\n",
       "\n",
       "    .dataframe thead th {\n",
       "        text-align: right;\n",
       "    }\n",
       "</style>\n",
       "<table border=\"1\" class=\"dataframe\">\n",
       "  <thead>\n",
       "    <tr style=\"text-align: right;\">\n",
       "      <th></th>\n",
       "      <th>tol</th>\n",
       "      <th>k̄</th>\n",
       "      <th>x̄ᵏ</th>\n",
       "      <th>∥x̄ᵏ - x*∥</th>\n",
       "    </tr>\n",
       "  </thead>\n",
       "  <tbody>\n",
       "    <tr>\n",
       "      <th>0</th>\n",
       "      <td>0.01000</td>\n",
       "      <td>2.00</td>\n",
       "      <td>(2.0000000446149846, 1.000000060518737)</td>\n",
       "      <td>7.518653e-08</td>\n",
       "    </tr>\n",
       "    <tr>\n",
       "      <th>1</th>\n",
       "      <td>0.00100</td>\n",
       "      <td>2.24</td>\n",
       "      <td>(2.0000000458886205, 1.0000000643643232)</td>\n",
       "      <td>7.904765e-08</td>\n",
       "    </tr>\n",
       "    <tr>\n",
       "      <th>2</th>\n",
       "      <td>0.00010</td>\n",
       "      <td>2.97</td>\n",
       "      <td>(2.000000036933291, 1.0000000590604532)</td>\n",
       "      <td>6.965777e-08</td>\n",
       "    </tr>\n",
       "    <tr>\n",
       "      <th>3</th>\n",
       "      <td>0.00001</td>\n",
       "      <td>3.00</td>\n",
       "      <td>(2.0000000511585374, 1.0000000591935008)</td>\n",
       "      <td>7.823724e-08</td>\n",
       "    </tr>\n",
       "  </tbody>\n",
       "</table>\n",
       "</div>"
      ],
      "text/plain": [
       "       tol    k̄                                       x̄ᵏ    ∥x̄ᵏ - x*∥\n",
       "0  0.01000  2.00   (2.0000000446149846, 1.000000060518737)  7.518653e-08\n",
       "1  0.00100  2.24  (2.0000000458886205, 1.0000000643643232)  7.904765e-08\n",
       "2  0.00010  2.97   (2.000000036933291, 1.0000000590604532)  6.965777e-08\n",
       "3  0.00001  3.00  (2.0000000511585374, 1.0000000591935008)  7.823724e-08"
      ]
     },
     "execution_count": 4,
     "metadata": {},
     "output_type": "execute_result"
    }
   ],
   "source": [
    "import pandas as pd\n",
    "\n",
    "print(f'Tabela 1 - Testes do Método do Gradiente para a função {function}')\n",
    "\n",
    "table1 = []\n",
    "table2 = []\n",
    "table3 = []\n",
    "table4 = []\n",
    "\n",
    "for i in range(4):\n",
    "   result_list = []\n",
    "   k_list = []\n",
    "\n",
    "   tolerance: float = 10**-(i+2)\n",
    "\n",
    "   for j in range(100):\n",
    "      x0 = np.random.uniform(low=0.0, high=10.0, size=2)\n",
    "\n",
    "      mg = MG(func, x0, tolerance)\n",
    "      mg.algorithm()\n",
    "\n",
    "      result_list.append(mg.xk)\n",
    "      k_list.append(mg.k)\n",
    "\n",
    "\n",
    "   result_mean = calculate_result_mean(result_list)\n",
    "   \n",
    "   table1.append(tolerance)\n",
    "   table2.append(np.mean(k_list))\n",
    "   table3.append(result_mean)\n",
    "   table4.append(norm(result_mean, x_star))\n",
    "\n",
    "table = pd.DataFrame({\n",
    "   \"tol\": table1,\n",
    "   \"k\\u0304\": table2,\n",
    "   \"x\\u0304\\u1D4F\": table3,\n",
    "   \"\\u2225x\\u0304\\u1D4F - x*\\u2225\": table4\n",
    "})\n",
    "\n",
    "table"
   ]
  }
 ],
 "metadata": {
  "kernelspec": {
   "display_name": "Python 3",
   "language": "python",
   "name": "python3"
  },
  "language_info": {
   "codemirror_mode": {
    "name": "ipython",
    "version": 3
   },
   "file_extension": ".py",
   "mimetype": "text/x-python",
   "name": "python",
   "nbconvert_exporter": "python",
   "pygments_lexer": "ipython3",
   "version": "3.10.6"
  },
  "orig_nbformat": 4
 },
 "nbformat": 4,
 "nbformat_minor": 2
}
